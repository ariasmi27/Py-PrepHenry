{
 "cells": [
  {
   "cell_type": "code",
   "execution_count": 1,
   "metadata": {},
   "outputs": [
    {
     "name": "stdout",
     "output_type": "stream",
     "text": [
      "El numero 1 es impar \n",
      "el numero 2 es par\n",
      "El numero 3 es impar \n",
      "el numero 4 es par\n",
      "El numero 5 es impar \n",
      "el numero 6 es par\n",
      "El numero 7 es impar \n",
      "el numero 8 es par\n",
      "El numero 9 es impar \n",
      "el numero 10 es par\n",
      "El numero 11 es impar \n",
      "el numero 12 es par\n",
      "El numero 13 es impar \n",
      "el numero 14 es par\n",
      "El numero 15 es impar \n",
      "el numero 16 es par\n",
      "El numero 17 es impar \n",
      "el numero 18 es par\n",
      "El numero 19 es impar \n",
      "el numero 20 es par\n",
      "El numero 21 es impar \n",
      "el numero 22 es par\n",
      "El numero 23 es impar \n",
      "el numero 24 es par\n",
      "El numero 25 es impar \n",
      "el numero 26 es par\n",
      "El numero 27 es impar \n",
      "el numero 28 es par\n",
      "El numero 29 es impar \n",
      "el numero 30 es par\n"
     ]
    }
   ],
   "source": [
    "#Para los valores enteros del 1 al 30 iprimir por pantalla si es par o inpar\n",
    "#Bucle while\n",
    "\n",
    "w=1\n",
    "while (w <= 30):\n",
    "    if (w % 2 == 0):\n",
    "        print (f'el numero {w} es par')\n",
    "    else:\n",
    "        print(f'El numero {w} es impar ')  \n",
    "\n",
    "    w= w+1      "
   ]
  },
  {
   "cell_type": "code",
   "execution_count": 2,
   "metadata": {},
   "outputs": [
    {
     "name": "stdout",
     "output_type": "stream",
     "text": [
      "Valor: 0 Elevando a la 3ra potencia: 0\n",
      "Valor: 1 Elevando a la 3ra potencia: 1\n",
      "Valor: 2 Elevando a la 3ra potencia: 8\n",
      "Valor: 3 Elevando a la 3ra potencia: 27\n",
      "Valor: 4 Elevando a la 3ra potencia: 64\n",
      "Valor: 5 Elevando a la 3ra potencia: 125\n"
     ]
    }
   ],
   "source": [
    "#En un ciclo for mostrar para los valores entre 0 y 5 resultados de elevarlo a la potencia igual a 3 \n",
    "for i in range (0, 6):\n",
    "    print (\"Valor:\", str(i), \"Elevando a la 3ra potencia:\", str (i**3))"
   ]
  },
  {
   "cell_type": "code",
   "execution_count": 3,
   "metadata": {},
   "outputs": [
    {
     "name": "stdout",
     "output_type": "stream",
     "text": [
      "El factorial es 2\n"
     ]
    }
   ],
   "source": [
    "#Utilizar un ciclo while para realizar el factorial de un n° guardado en una variable, solo si la variable contiene un n°entero mayor a 0\n",
    "n=2\n",
    "if (type(n) == int ):\n",
    "    if (n>0):\n",
    "        factorial = n\n",
    "        while (n>2 ):\n",
    "            n=n-1\n",
    "            factorial = factorial * n\n",
    "        print (\"El factorial es\", factorial)    \n",
    "    else:\n",
    "        print (\"La v no es mayor a cero\")  \n",
    "else:\n",
    "    print(\"La V no es un entero\")          "
   ]
  },
  {
   "cell_type": "code",
   "execution_count": 7,
   "metadata": {},
   "outputs": [
    {
     "name": "stdout",
     "output_type": "stream",
     "text": [
      "24\n"
     ]
    }
   ],
   "source": [
    "#Resolucion con bucle for \n",
    "\n",
    "nu=4\n",
    "factorial=1\n",
    "for i in range (2, (nu + 1)):\n",
    "    factorial = i * factorial\n",
    "print (factorial)    "
   ]
  },
  {
   "cell_type": "code",
   "execution_count": 15,
   "metadata": {},
   "outputs": [],
   "source": [
    "#Crear un ciclo for dentro de un ciclo while \n",
    "\n",
    "n=1\n",
    "while n> 5:\n",
    "    print (\"ciclo while n°\" + str(n))\n",
    "    for i in range (1, n+1):\n",
    "       print (\"ciclo for n°\" + str(i))\n",
    "\n",
    "    n += 1    \n",
    "        "
   ]
  },
  {
   "cell_type": "code",
   "execution_count": 20,
   "metadata": {},
   "outputs": [
    {
     "name": "stdout",
     "output_type": "stream",
     "text": [
      "Ciclo while nro 1\n",
      "Ciclo for nro 1\n",
      "Ciclo while nro 2\n",
      "Ciclo for nro 1\n",
      "Ciclo for nro 2\n",
      "Ciclo while nro 3\n",
      "Ciclo for nro 1\n",
      "Ciclo for nro 2\n",
      "Ciclo for nro 3\n",
      "Ciclo while nro 4\n",
      "Ciclo for nro 1\n",
      "Ciclo for nro 2\n",
      "Ciclo for nro 3\n",
      "Ciclo for nro 4\n"
     ]
    }
   ],
   "source": [
    "n = 1\n",
    "while n < 5:\n",
    "    print('Ciclo while nro ' + str(n))\n",
    "    for i in range(1, n+1):\n",
    "         print('Ciclo for nro ' + str(i))\n",
    "    n += 1     \n",
    "\n"
   ]
  },
  {
   "cell_type": "code",
   "execution_count": 24,
   "metadata": {},
   "outputs": [
    {
     "name": "stdout",
     "output_type": "stream",
     "text": [
      "0\n",
      "1\n",
      "2\n",
      "3\n",
      "5\n",
      "7\n",
      "11\n",
      "13\n",
      "17\n",
      "19\n",
      "23\n",
      "29\n"
     ]
    }
   ],
   "source": [
    "#Imprimir los numeros primos existentes entre 0 y 30\n",
    "\n",
    "ultimo= 30\n",
    "n= 0\n",
    "primo= True\n",
    "\n",
    "while (n< ultimo):\n",
    "    for div in range (2, n ):\n",
    "        if (n% div == 0):\n",
    "            primo= False \n",
    "    if (primo):\n",
    "        print(n)\n",
    "    else:\n",
    "        primo = True \n",
    "    n += 1                "
   ]
  }
 ],
 "metadata": {
  "kernelspec": {
   "display_name": "Python 3",
   "language": "python",
   "name": "python3"
  },
  "language_info": {
   "codemirror_mode": {
    "name": "ipython",
    "version": 3
   },
   "file_extension": ".py",
   "mimetype": "text/x-python",
   "name": "python",
   "nbconvert_exporter": "python",
   "pygments_lexer": "ipython3",
   "version": "3.11.6"
  }
 },
 "nbformat": 4,
 "nbformat_minor": 2
}
