{
 "cells": [
  {
   "cell_type": "code",
   "execution_count": 37,
   "metadata": {},
   "outputs": [],
   "source": [
    "class Gato:\n",
    "    def __init__(self, nombre , edad,raza,sexo):\n",
    "        self.nombre =nombre\n",
    "        self.edad=edad \n",
    "        self.raza=raza\n",
    "        self.sexo=sexo\n",
    "\n",
    "#Metodo presentar\n",
    "\n",
    "    def presentar(self):\n",
    "        return print(\"Nombre:\",self.nombre,\"Edad:\", self.edad, \"Raza:\", self.raza,\"Sexo:\", self.sexo)    \n",
    "\n",
    "\n"
   ]
  },
  {
   "cell_type": "code",
   "execution_count": 40,
   "metadata": {},
   "outputs": [],
   "source": [
    "gato1=Gato(\"Pompon\",2,\"siames\",\"macho\")"
   ]
  },
  {
   "cell_type": "code",
   "execution_count": 39,
   "metadata": {},
   "outputs": [
    {
     "name": "stdout",
     "output_type": "stream",
     "text": [
      "<__main__.Gato object at 0x00000158F49A5490>\n"
     ]
    }
   ],
   "source": [
    "print(gato1)"
   ]
  },
  {
   "cell_type": "code",
   "execution_count": 41,
   "metadata": {},
   "outputs": [
    {
     "name": "stdout",
     "output_type": "stream",
     "text": [
      "Nombre: Pompon Edad: 2 Raza: siames Sexo: macho\n"
     ]
    }
   ],
   "source": [
    "gato1.presentar()"
   ]
  },
  {
   "cell_type": "code",
   "execution_count": 44,
   "metadata": {},
   "outputs": [],
   "source": [
    "\n",
    "class CuentaBancaria:\n",
    "    def __init__(self,saldo):\n",
    "        self.__saldo=saldo # El atributo saldo esta encapsilado con __\n",
    "    def depositar(self, monto):\n",
    "        self.__saldo+= monto\n",
    "\n",
    "    def retirar (self, monto):\n",
    "        if self.__saldo>= monto:\n",
    "            self.__saldo-=monto \n",
    "        else:\n",
    "            print(\"Saldo Insuficiente\")\n",
    "\n",
    "    def obtener_saldo(self):\n",
    "        return self.__saldo                    \n"
   ]
  },
  {
   "cell_type": "code",
   "execution_count": 45,
   "metadata": {},
   "outputs": [],
   "source": [
    "mi_cuenta=CuentaBancaria(25000)"
   ]
  },
  {
   "cell_type": "code",
   "execution_count": 49,
   "metadata": {},
   "outputs": [],
   "source": [
    "class Animal:\n",
    "    def __init__(self, especie,edad,color):\n",
    "        self.especie =especie\n",
    "        self.edad=edad \n",
    "        self.color=color\n",
    "\n",
    "    def mePresento(self):\n",
    "        print(\"Hola, soy:\",self.especie, \"de color:\", self.color,\"tengo\", self.edad,\"años\") \n",
    "\n",
    "    def cumplirAnios(self):\n",
    "        self.edad=self.edad +1       "
   ]
  },
  {
   "cell_type": "code",
   "execution_count": null,
   "metadata": {},
   "outputs": [],
   "source": []
  }
 ],
 "metadata": {
  "kernelspec": {
   "display_name": "Python 3",
   "language": "python",
   "name": "python3"
  },
  "language_info": {
   "codemirror_mode": {
    "name": "ipython",
    "version": 3
   },
   "file_extension": ".py",
   "mimetype": "text/x-python",
   "name": "python",
   "nbconvert_exporter": "python",
   "pygments_lexer": "ipython3",
   "version": "3.11.6"
  }
 },
 "nbformat": 4,
 "nbformat_minor": 2
}
