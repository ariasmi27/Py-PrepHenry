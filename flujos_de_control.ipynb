{
 "cells": [
  {
   "cell_type": "code",
   "execution_count": 1,
   "metadata": {},
   "outputs": [
    {
     "name": "stdout",
     "output_type": "stream",
     "text": [
      "La variable es mayor a cero\n"
     ]
    }
   ],
   "source": [
    "x=5\n",
    "if (x < 0):\n",
    "    print(\"Variables es menor a cero\")\n",
    "\n",
    "elif (x>0):\n",
    "    print(\"La variable es mayor a cero\")\n",
    "else:\n",
    "    print (\"La variable es igual a cero\")        "
   ]
  },
  {
   "cell_type": "code",
   "execution_count": 7,
   "metadata": {},
   "outputs": [
    {
     "name": "stdout",
     "output_type": "stream",
     "text": [
      "variable es menor  a 0\n"
     ]
    }
   ],
   "source": [
    "m= -1\n",
    "if (m<0):\n",
    "    print(\"variable es menor  a 0\")\n",
    "elif (m>0):\n",
    "    print(\"La variable es mayor igual a 0\")\n",
    "else:\n",
    "    print(\"La variable es igual a 0\")        "
   ]
  },
  {
   "cell_type": "code",
   "execution_count": 8,
   "metadata": {},
   "outputs": [
    {
     "name": "stdout",
     "output_type": "stream",
     "text": [
      "variables diferente tipo de dato\n"
     ]
    }
   ],
   "source": [
    "#Crear 2 variables y un condicional que informe si son del mismo tipo de dato \n",
    "a=2\n",
    "b= \"Maria\"\n",
    "if (type (a)==type(b)):\n",
    "    print(\"variables del mismo tipo\")\n",
    "else:\n",
    "    print(\"variables diferente tipo de dato\")    \n"
   ]
  },
  {
   "cell_type": "code",
   "execution_count": 9,
   "metadata": {},
   "outputs": [
    {
     "name": "stdout",
     "output_type": "stream",
     "text": [
      "variables mismo tipo\n"
     ]
    }
   ],
   "source": [
    "c=10\n",
    "d=5\n",
    "if (type(c)== type(d)):\n",
    "    print(\"variables mismo tipo\")\n",
    "else:\n",
    "    print(\"variables diferente tipo\")    \n"
   ]
  },
  {
   "cell_type": "code",
   "execution_count": 14,
   "metadata": {},
   "outputs": [
    {
     "name": "stdout",
     "output_type": "stream",
     "text": [
      "El numero  1 es impar\n",
      "El numero 2 es par\n",
      "El numero  3 es impar\n",
      "El numero 4 es par\n",
      "El numero  5 es impar\n",
      "El numero 6 es par\n",
      "El numero  7 es impar\n",
      "El numero 8 es par\n",
      "El numero  9 es impar\n",
      "El numero 10 es par\n",
      "El numero  11 es impar\n",
      "El numero 12 es par\n",
      "El numero  13 es impar\n",
      "El numero 14 es par\n",
      "El numero  15 es impar\n",
      "El numero 16 es par\n",
      "El numero  17 es impar\n",
      "El numero 18 es par\n",
      "El numero  19 es impar\n",
      "El numero 20 es par\n"
     ]
    }
   ],
   "source": [
    "#Para los numero del 1 al 20 imprimir por pantalla si son par o inpar \n",
    "\n",
    "for i in range(1, 21):\n",
    "    if i % 2 ==0:\n",
    "        print(\"El numero\", str(i),  \"es par\")\n",
    "    else:\n",
    "        print (\"El numero \",str(i), \"es impar\")    "
   ]
  },
  {
   "cell_type": "code",
   "execution_count": null,
   "metadata": {},
   "outputs": [],
   "source": []
  }
 ],
 "metadata": {
  "kernelspec": {
   "display_name": "Python 3",
   "language": "python",
   "name": "python3"
  },
  "language_info": {
   "codemirror_mode": {
    "name": "ipython",
    "version": 3
   },
   "file_extension": ".py",
   "mimetype": "text/x-python",
   "name": "python",
   "nbconvert_exporter": "python",
   "pygments_lexer": "ipython3",
   "version": "3.11.6"
  }
 },
 "nbformat": 4,
 "nbformat_minor": 2
}
