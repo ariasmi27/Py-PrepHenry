{
 "cells": [
  {
   "cell_type": "code",
   "execution_count": 55,
   "metadata": {},
   "outputs": [],
   "source": [
    "ciudades_del_mundo= [\"Buenos Aires\", \"Mendoza\",\"Arizona\",\"Nueva York\",\"Barcelona\"]"
   ]
  },
  {
   "cell_type": "code",
   "execution_count": 56,
   "metadata": {},
   "outputs": [
    {
     "name": "stdout",
     "output_type": "stream",
     "text": [
      "['Buenos Aires', 'Mendoza', 'Arizona', 'Nueva York', 'Barcelona']\n"
     ]
    }
   ],
   "source": [
    "print(ciudades_del_mundo)"
   ]
  },
  {
   "cell_type": "code",
   "execution_count": 57,
   "metadata": {},
   "outputs": [
    {
     "name": "stdout",
     "output_type": "stream",
     "text": [
      "Mendoza\n"
     ]
    }
   ],
   "source": [
    "print(ciudades_del_mundo[1])"
   ]
  },
  {
   "cell_type": "code",
   "execution_count": 58,
   "metadata": {},
   "outputs": [
    {
     "name": "stdout",
     "output_type": "stream",
     "text": [
      "['Mendoza', 'Arizona', 'Nueva York']\n"
     ]
    }
   ],
   "source": [
    "print(ciudades_del_mundo[1:4])"
   ]
  },
  {
   "cell_type": "code",
   "execution_count": 59,
   "metadata": {},
   "outputs": [
    {
     "data": {
      "text/plain": [
       "list"
      ]
     },
     "execution_count": 59,
     "metadata": {},
     "output_type": "execute_result"
    }
   ],
   "source": [
    "type(ciudades_del_mundo)"
   ]
  },
  {
   "cell_type": "code",
   "execution_count": 60,
   "metadata": {},
   "outputs": [
    {
     "name": "stdout",
     "output_type": "stream",
     "text": [
      "['Buenos Aires', 'Mendoza', 'Arizona', 'Nueva York']\n"
     ]
    }
   ],
   "source": [
    "#Vizualizar los primeros 4 elementos\n",
    "print(ciudades_del_mundo[0:4])"
   ]
  },
  {
   "cell_type": "code",
   "execution_count": 61,
   "metadata": {},
   "outputs": [],
   "source": [
    "#Agregar una ciudad mas a la lista q ya exista y otra no.Arroja algun error?\n",
    "\n",
    "ciudades_del_mundo.append (\"Cordoba\")\n",
    "ciudades_del_mundo.append(\"Mendoza\")\n"
   ]
  },
  {
   "cell_type": "code",
   "execution_count": 62,
   "metadata": {},
   "outputs": [
    {
     "name": "stdout",
     "output_type": "stream",
     "text": [
      "['Buenos Aires', 'Mendoza', 'Arizona', 'Nueva York', 'Barcelona', 'Cordoba', 'Mendoza']\n"
     ]
    }
   ],
   "source": [
    "print(ciudades_del_mundo)"
   ]
  },
  {
   "cell_type": "code",
   "execution_count": 63,
   "metadata": {},
   "outputs": [],
   "source": [
    "ciudades_del_mundo.insert(3,\"San Pasblo\")"
   ]
  },
  {
   "cell_type": "code",
   "execution_count": 64,
   "metadata": {},
   "outputs": [
    {
     "name": "stdout",
     "output_type": "stream",
     "text": [
      "['Buenos Aires', 'Mendoza', 'Arizona', 'San Pasblo', 'Nueva York', 'Barcelona', 'Cordoba', 'Mendoza']\n"
     ]
    }
   ],
   "source": [
    "print(ciudades_del_mundo)"
   ]
  },
  {
   "cell_type": "code",
   "execution_count": 65,
   "metadata": {},
   "outputs": [
    {
     "data": {
      "text/plain": [
       "<function list.pop(index=-1, /)>"
      ]
     },
     "execution_count": 65,
     "metadata": {},
     "output_type": "execute_result"
    }
   ],
   "source": [
    "ciudades_del_mundo.pop"
   ]
  },
  {
   "cell_type": "code",
   "execution_count": 66,
   "metadata": {},
   "outputs": [
    {
     "name": "stdout",
     "output_type": "stream",
     "text": [
      "['Buenos Aires', 'Mendoza', 'Arizona', 'San Pasblo', 'Nueva York', 'Barcelona', 'Cordoba', 'Mendoza']\n"
     ]
    }
   ],
   "source": [
    "print(ciudades_del_mundo)"
   ]
  },
  {
   "cell_type": "code",
   "execution_count": 69,
   "metadata": {},
   "outputs": [
    {
     "ename": "ValueError",
     "evalue": "list.remove(x): x not in list",
     "output_type": "error",
     "traceback": [
      "\u001b[1;31m---------------------------------------------------------------------------\u001b[0m",
      "\u001b[1;31mValueError\u001b[0m                                Traceback (most recent call last)",
      "\u001b[1;32mc:\\Users\\micae\\Desktop\\Python-PrepHenry\\Py-PrepHenry\\homework.ipynb Cell 13\u001b[0m line \u001b[0;36m3\n\u001b[0;32m      <a href='vscode-notebook-cell:/c%3A/Users/micae/Desktop/Python-PrepHenry/Py-PrepHenry/homework.ipynb#X15sZmlsZQ%3D%3D?line=0'>1</a>\u001b[0m \u001b[39m#¿Qué pasa si el elemento a eliminar no existe?\u001b[39;00m\n\u001b[1;32m----> <a href='vscode-notebook-cell:/c%3A/Users/micae/Desktop/Python-PrepHenry/Py-PrepHenry/homework.ipynb#X15sZmlsZQ%3D%3D?line=2'>3</a>\u001b[0m ciudades_del_mundo\u001b[39m.\u001b[39;49mremove(\u001b[39m\"\u001b[39;49m\u001b[39mParis\u001b[39;49m\u001b[39m\"\u001b[39;49m)\n",
      "\u001b[1;31mValueError\u001b[0m: list.remove(x): x not in list"
     ]
    }
   ],
   "source": [
    "#¿Qué pasa si el elemento a eliminar no existe?\n",
    "\n",
    "ciudades_del_mundo.remove(\"Paris\")"
   ]
  },
  {
   "cell_type": "code",
   "execution_count": 70,
   "metadata": {},
   "outputs": [
    {
     "name": "stdout",
     "output_type": "stream",
     "text": [
      "['Buenos Aires', 'Mendoza', 'Arizona', 'San Pasblo', 'Nueva York', 'Barcelona', 'Cordoba', 'Mendoza', 'Buenos Aires', 'Mendoza', 'Arizona', 'San Pasblo', 'Nueva York', 'Barcelona', 'Cordoba', 'Mendoza', 'Buenos Aires', 'Mendoza', 'Arizona', 'San Pasblo', 'Nueva York', 'Barcelona', 'Cordoba', 'Mendoza', 'Buenos Aires', 'Mendoza', 'Arizona', 'San Pasblo', 'Nueva York', 'Barcelona', 'Cordoba', 'Mendoza']\n"
     ]
    }
   ],
   "source": [
    "print(ciudades_del_mundo *4)"
   ]
  },
  {
   "cell_type": "code",
   "execution_count": 71,
   "metadata": {},
   "outputs": [
    {
     "name": "stdout",
     "output_type": "stream",
     "text": [
      "<class 'tuple'>\n"
     ]
    }
   ],
   "source": [
    "#Crear una tupla que contenga los números enteros del 1 al 20\n",
    "\n",
    "num=(1,2,3,4,5,6,7,8,9,10,11,12,13,14,15,16,17,18,19,20)\n",
    "print(type(num))"
   ]
  },
  {
   "cell_type": "code",
   "execution_count": 72,
   "metadata": {},
   "outputs": [
    {
     "name": "stdout",
     "output_type": "stream",
     "text": [
      "(1, 2, 3, 4, 5, 6, 7, 8, 9, 10, 11, 12, 13, 14, 15, 16, 17, 18, 19, 20)\n"
     ]
    }
   ],
   "source": [
    "print(num)"
   ]
  },
  {
   "cell_type": "code",
   "execution_count": 74,
   "metadata": {},
   "outputs": [
    {
     "name": "stdout",
     "output_type": "stream",
     "text": [
      "(10, 11, 12, 13, 14, 15, 16)\n"
     ]
    }
   ],
   "source": [
    "print(num[9:16])"
   ]
  },
  {
   "cell_type": "code",
   "execution_count": 75,
   "metadata": {},
   "outputs": [
    {
     "name": "stdout",
     "output_type": "stream",
     "text": [
      "True\n"
     ]
    }
   ],
   "source": [
    "#Evaluar si los números 20 y 30 están dentro de la tupla\n",
    "\n",
    "print(20 in num)"
   ]
  },
  {
   "cell_type": "code",
   "execution_count": 76,
   "metadata": {},
   "outputs": [
    {
     "name": "stdout",
     "output_type": "stream",
     "text": [
      "False\n"
     ]
    }
   ],
   "source": [
    "print(30 in num)"
   ]
  },
  {
   "cell_type": "code",
   "execution_count": 77,
   "metadata": {},
   "outputs": [
    {
     "name": "stdout",
     "output_type": "stream",
     "text": [
      "elemento nuevo Paris\n"
     ]
    }
   ],
   "source": [
    "elem= \"Paris\"\n",
    "if not (elem in ciudades_del_mundo):\n",
    "    ciudades_del_mundo.append(elem)\n",
    "    print(\"elemento nuevo\", elem)\n",
    "else:\n",
    "    print(\"elemnto ya existe\",elem)    "
   ]
  },
  {
   "cell_type": "code",
   "execution_count": 78,
   "metadata": {},
   "outputs": [
    {
     "name": "stdout",
     "output_type": "stream",
     "text": [
      "1\n"
     ]
    }
   ],
   "source": [
    "print(num.count(10))"
   ]
  },
  {
   "cell_type": "code",
   "execution_count": 79,
   "metadata": {},
   "outputs": [
    {
     "name": "stdout",
     "output_type": "stream",
     "text": [
      "1\n"
     ]
    }
   ],
   "source": [
    "print(ciudades_del_mundo.count(\"Cordoba\"))"
   ]
  },
  {
   "cell_type": "code",
   "execution_count": 83,
   "metadata": {},
   "outputs": [
    {
     "name": "stdout",
     "output_type": "stream",
     "text": [
      "[1, 2, 3, 4, 5, 6, 7, 8, 9, 10, 11, 12, 13, 14, 15, 16, 17, 18, 19, 20]\n"
     ]
    }
   ],
   "source": [
    "#Convertir la tupla en una lista\n",
    "\n",
    "lista1= list(num)\n",
    "print(lista1)"
   ]
  },
  {
   "cell_type": "code",
   "execution_count": 84,
   "metadata": {},
   "outputs": [],
   "source": [
    "#Crear un diccionario utilizando la lista crada en el punto 1, asignandole la clave \"ciudad\". Agregar tambien otras claves, como puede ser \"Pais\" y \"Continente\".\n",
    "\n",
    "diccionario={\"ciudades\": ciudades_del_mundo, \"Pais\":[\"Argentina\", \"Estados Unidos\",\"España\"], \"continente\":[\"America\",\"\"]}"
   ]
  },
  {
   "cell_type": "code",
   "execution_count": 85,
   "metadata": {},
   "outputs": [
    {
     "name": "stdout",
     "output_type": "stream",
     "text": [
      "{'ciudades': ['Buenos Aires', 'Mendoza', 'Arizona', 'San Pasblo', 'Nueva York', 'Barcelona', 'Cordoba', 'Mendoza', 'Paris'], 'Pais': ['Argentina', 'Estados Unidos', 'España'], 'continente': ['America', '']}\n"
     ]
    }
   ],
   "source": [
    "print(diccionario)"
   ]
  },
  {
   "cell_type": "code",
   "execution_count": 87,
   "metadata": {},
   "outputs": [
    {
     "name": "stdout",
     "output_type": "stream",
     "text": [
      "dict_keys(['ciudades', 'Pais', 'continente'])\n"
     ]
    }
   ],
   "source": [
    "print (diccionario.keys())"
   ]
  },
  {
   "cell_type": "code",
   "execution_count": 90,
   "metadata": {},
   "outputs": [],
   "source": [
    "lista_1=[1,2,3]\n",
    "lista_2=[\"a\",\"b\",\"c\"]\n",
    "combinacion=zip(lista_1,lista_2)"
   ]
  },
  {
   "cell_type": "code",
   "execution_count": 91,
   "metadata": {},
   "outputs": [
    {
     "name": "stdout",
     "output_type": "stream",
     "text": [
      "<class 'zip'>\n"
     ]
    }
   ],
   "source": [
    "print(type(combinacion))"
   ]
  },
  {
   "cell_type": "code",
   "execution_count": 94,
   "metadata": {},
   "outputs": [
    {
     "name": "stdout",
     "output_type": "stream",
     "text": [
      "(2, 'b')\n",
      "(3, 'c')\n"
     ]
    }
   ],
   "source": [
    "for elemento in combinacion:\n",
    "    print(elemento)"
   ]
  },
  {
   "cell_type": "code",
   "execution_count": 110,
   "metadata": {},
   "outputs": [],
   "source": [
    "nombres=[\"Micaela\", \"Matias\", \"Guadalupe\", \"Renata\"]\n",
    "edad=[34,29,8,3]\n",
    "datos=zip(nombres, edad)"
   ]
  },
  {
   "cell_type": "code",
   "execution_count": 111,
   "metadata": {},
   "outputs": [
    {
     "name": "stdout",
     "output_type": "stream",
     "text": [
      "('Micaela', 34)\n",
      "('Matias', 29)\n",
      "('Guadalupe', 8)\n",
      "('Renata', 3)\n"
     ]
    }
   ],
   "source": [
    "for elemento in datos:\n",
    "     print(elemento)"
   ]
  },
  {
   "cell_type": "code",
   "execution_count": 103,
   "metadata": {},
   "outputs": [
    {
     "name": "stdout",
     "output_type": "stream",
     "text": [
      "<class 'zip'>\n"
     ]
    }
   ],
   "source": [
    "print(type(datos))"
   ]
  },
  {
   "cell_type": "code",
   "execution_count": 112,
   "metadata": {},
   "outputs": [
    {
     "name": "stdout",
     "output_type": "stream",
     "text": [
      "[4, 8, 12]\n"
     ]
    }
   ],
   "source": [
    "num=[1,2,3,4,5,6]\n",
    "pares_por_dos=[x*2 for x in num if x%2==0]\n",
    "print(pares_por_dos)"
   ]
  },
  {
   "cell_type": "code",
   "execution_count": 114,
   "metadata": {},
   "outputs": [
    {
     "name": "stdout",
     "output_type": "stream",
     "text": [
      "['r', 'r', 'r', 'r']\n"
     ]
    }
   ],
   "source": [
    "frase=\"El perro de san roque no tiene rabo\"\n",
    "erres=[i for i in frase if i==\"r\"]\n",
    "print(erres)"
   ]
  },
  {
   "cell_type": "code",
   "execution_count": 2,
   "metadata": {},
   "outputs": [],
   "source": [
    "## CLASES Y PROGRAMACION ORIENTADA A OBJETOS \n",
    "\n",
    "\n",
    "class Vehiculo:\n",
    "    def __init__(self, color,tipo,cilindrada):\n",
    "        self.color =color \n",
    "        self.tipo= tipo\n",
    "        self.cilindrada=cilindrada\n",
    "\n",
    "        self.velocidad =0\n",
    "        self.direccion=0\n",
    "\n",
    "    def Acelerar (self, velo ):\n",
    "        self.velocidad+= velo   \n",
    "\n",
    "    def Frenar (self,velo):\n",
    "        self.velocidad -=velo\n",
    "\n",
    "    def Doblar (self, grados):\n",
    "        self.direccion += grados     \n",
    "\n",
    "    def Detalle (self):\n",
    "        print (\"Velocidad:\", self.velocidad, \"-Direccion:\", self.direccion) \n",
    "\n",
    "    def Estado(self):\n",
    "        print(\"Velocidad\", self.velocidad , \"-Direccion:\",)          "
   ]
  },
  {
   "cell_type": "code",
   "execution_count": 5,
   "metadata": {},
   "outputs": [],
   "source": [
    "v1= Vehiculo(\"negro\",\"moto\",2)\n",
    "v2= Vehiculo (\"rojo\",\"Auto\", 3)\n",
    "v3= Vehiculo(\"Amarillo\", \"camioneta\", 4)\n"
   ]
  },
  {
   "cell_type": "code",
   "execution_count": 6,
   "metadata": {},
   "outputs": [],
   "source": [
    "v1.Acelerar(40)"
   ]
  },
  {
   "cell_type": "code",
   "execution_count": null,
   "metadata": {},
   "outputs": [],
   "source": []
  }
 ],
 "metadata": {
  "kernelspec": {
   "display_name": "Python 3",
   "language": "python",
   "name": "python3"
  },
  "language_info": {
   "codemirror_mode": {
    "name": "ipython",
    "version": 3
   },
   "file_extension": ".py",
   "mimetype": "text/x-python",
   "name": "python",
   "nbconvert_exporter": "python",
   "pygments_lexer": "ipython3",
   "version": "3.11.7"
  }
 },
 "nbformat": 4,
 "nbformat_minor": 2
}
